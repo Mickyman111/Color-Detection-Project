{
 "cells": [
  {
   "cell_type": "markdown",
   "metadata": {},
   "source": [
    "## Project : Color Detection Projection\n",
    "## Name    : Gaurav Tulshiram More"
   ]
  },
  {
   "cell_type": "markdown",
   "metadata": {},
   "source": [
    "# Color detection using OpenCV"
   ]
  },
  {
   "cell_type": "markdown",
   "metadata": {},
   "source": [
    "In this color detection Python project, we are going to build an application through which you can automatically get the name of the color by clicking on them. So for this, we will have a data file that contains the color name and its values. Then we will calculate the distance from each color and find the shortest one."
   ]
  },
  {
   "cell_type": "markdown",
   "metadata": {},
   "source": [
    "### The Data set"
   ]
  },
  {
   "cell_type": "markdown",
   "metadata": {},
   "source": [
    "Colors are made up of 3 primary colors; red, green, and blue. In computers, we define each color value within a range of 0 to 255. So in how many ways we can define a color? The answer is 256*256*256 = 16,581,375. There are approximately 16.5 million different ways to represent a color. In our dataset, we need to map each color’s values with their corresponding names. But don’t worry, we don’t need to map all the values. We will be using a dataset that contains RGB values with their corresponding names.click here to download csv file . csv file includes 865 color names along with their RGB and hex values."
   ]
  },
  {
   "cell_type": "markdown",
   "metadata": {},
   "source": [
    "## Import Essential Libraries"
   ]
  },
  {
   "cell_type": "code",
   "execution_count": 21,
   "metadata": {},
   "outputs": [],
   "source": [
    "import cv2\n",
    "import numpy as np\n",
    "import pandas as pd"
   ]
  },
  {
   "cell_type": "markdown",
   "metadata": {},
   "source": [
    "## Import Dataset"
   ]
  },
  {
   "cell_type": "code",
   "execution_count": 22,
   "metadata": {},
   "outputs": [],
   "source": [
    "csv = pd.read_csv('colors.csv', names=index, header=None)"
   ]
  },
  {
   "cell_type": "markdown",
   "metadata": {},
   "source": [
    "Reading csv file with pandas and giving names to each column"
   ]
  },
  {
   "cell_type": "code",
   "execution_count": 23,
   "metadata": {},
   "outputs": [],
   "source": [
    "index=[\"color\",\"color_name\",\"hex\",\"R\",\"G\",\"B\"]"
   ]
  },
  {
   "cell_type": "code",
   "execution_count": 24,
   "metadata": {},
   "outputs": [],
   "source": [
    "img_path = \"C://Users//Admin//Downloads//CodeClause//Color-detection//colorpic.jpg\"\n",
    "img = cv2.imread(img_path)\n",
    "img=cv2.resize(img,(700,500))"
   ]
  },
  {
   "cell_type": "code",
   "execution_count": 25,
   "metadata": {},
   "outputs": [],
   "source": [
    "clicked = False\n",
    "r = g = b = xpos = ypos = 0"
   ]
  },
  {
   "cell_type": "markdown",
   "metadata": {},
   "source": [
    "The line `clicked = False` initializes a boolean variable `clicked` to `False`. It is used to keep track of whether a double-click event has occurred.\n",
    "\n",
    "The line `r = g = b = xpos = ypos = 0` initializes multiple variables `r`, `g`, `b`, `xpos`, and `ypos` to zero. These variables are used to store the RGB values and coordinates of the double-clicked position on the image. Initializing them to zero ensures that they have a defined initial value before any double-click event occurs."
   ]
  },
  {
   "cell_type": "code",
   "execution_count": 26,
   "metadata": {},
   "outputs": [],
   "source": [
    "#function to calculate minimum distance from all colors and get the most matching color\n",
    "def getColorName(R,G,B):\n",
    "    minimum = 10000\n",
    "    for i in range(len(csv)):\n",
    "        d = abs(R- int(csv.loc[i,\"R\"])) + abs(G- int(csv.loc[i,\"G\"]))+ abs(B- int(csv.loc[i,\"B\"]))\n",
    "        if(d<=minimum):\n",
    "            minimum = d\n",
    "            cname = csv.loc[i,\"color_name\"]\n",
    "    return cname"
   ]
  },
  {
   "cell_type": "markdown",
   "metadata": {},
   "source": [
    "The `getColorName` function takes RGB values (R, G, B) as input and returns the corresponding color name from a predefined dataset. Here's a summary of how it works:\n",
    "\n",
    "* It initializes a variable `minimum` with a large value (`10000`) to keep track of the minimum distance between the input color and the colors in the dataset.\n",
    "\n",
    "* It loops through dataset, calculate distance (d) between the input color and the color in the dataset using the absolute differences in their RGB values.\n",
    "\n",
    "* If the calculated distance (`d`) is smaller or equal to the current minimum distance (`minimum`), it updates the minimum distance and assigns the color name (`cname`).\n",
    "\n",
    "* Finally, it returns the color name (`cname`) of the color that had the minimum distance to the input RGB values.\n",
    "\n",
    "dataset(`csv`) with columns for color names, `R`,`G`, and `B` values. It iterates through the dataset and finds the color name that best matches the input RGB values based on minimum distance calculation."
   ]
  },
  {
   "cell_type": "code",
   "execution_count": 27,
   "metadata": {},
   "outputs": [],
   "source": [
    "def draw_function(event, x, y, flags, param):\n",
    "    \"\"\"\n",
    "    Mouse callback function to handle double-click event.\n",
    "\n",
    "    Args:\n",
    "        event (int): The type of mouse event.\n",
    "        x (int): The x-coordinate of the mouse event.\n",
    "        y (int): The y-coordinate of the mouse event.\n",
    "        flags (int): Additional flags.\n",
    "        param: Additional parameters.\n",
    "\n",
    "    \"\"\"\n",
    "    if event == cv2.EVENT_LBUTTONDBLCLK:\n",
    "        global clicked, xpos, ypos, b, g, r\n",
    "        clicked, xpos, ypos, b, g, r = True, x, y, *map(int, img[y, x])\n",
    "\n",
    "cv2.namedWindow(\"color detection\")\n",
    "cv2.setMouseCallback(\"color detection\", draw_function)\n",
    "\n",
    "while True:\n",
    "    cv2.imshow(\"color detection\", img)\n",
    "    if clicked:\n",
    "        cv2.rectangle(img, (20, 20), (750, 60), (b, g, r), -1)\n",
    "        text = f\"{getColorName(r, g, b)} R={r} G={g} B={b}\"\n",
    "        cv2.putText(img, text, (50, 50), 2, 0.8, (0, 0, 0) if r + g + b >= 600 else (255, 255, 255), 2, cv2.LINE_AA)\n",
    "        clicked = False\n",
    "    if cv2.waitKey(20) == 27:\n",
    "        break\n",
    "\n",
    "cv2.destroyAllWindows()\n"
   ]
  },
  {
   "cell_type": "markdown",
   "metadata": {},
   "source": [
    "This code performs the following steps:\n",
    "\n",
    "1. The `draw_function` is a callback function that is triggered when a double-click event occurs on the image. If the event is a double-click, it sets the global variables `clicked`, `xpos`, `ypos`, `b`, `g`, and `r` with the values from the double-clicked position on the image.\n",
    "\n",
    "2. It creates a named window called \"color detection\" to display the image.\n",
    "\n",
    "3. The `while` loop runs continuously until the program is terminated.\n",
    "\n",
    "4. Inside the loop, it displays the image in the \"color detection\" window using `cv2.imshow`.\n",
    "\n",
    "5. If the `clicked` flag is `True`, it draws a filled rectangle on the image using the RGB values (`b`, `g`, `r`) obtained from the double-clicked position.\n",
    "\n",
    "6. It generates a text string that includes the color name obtained from the `getColorName` function, along with the RGB values.\n",
    "\n",
    "7. The text is then displayed on the image using `cv2.putText`, with the color of the text set based on the sum of RGB values.\n",
    "\n",
    "8. After processing the double-click event, it resets the `clicked` flag to `False`.\n",
    "\n",
    "9. The loop continues until the `cv2.waitKey(20)` condition becomes `True` when the 'Esc' key (key code 27) is pressed.\n",
    "\n",
    "10. Finally, it closes all open windows using `cv2.destroyAllWindows()`."
   ]
  },
  {
   "cell_type": "markdown",
   "metadata": {},
   "source": [
    "# OUTPUT: \n",
    "\n",
    "### * Image Display: The code displays an image in a window titled \"color detection.\"\n",
    "\n",
    "### * Mouse Double-Click Event: When a double-click event occurs on the image, the code captures the following information:\n"
   ]
  },
  {
   "cell_type": "markdown",
   "metadata": {},
   "source": [
    "   - `xpos` and `ypos`: The x and y coordinates of the double-clicked position on the image.\n",
    "   - `b`, `g`, and `r`: The RGB values of the pixel at the double-clicked position.\n",
    "\n",
    "3. Rectangle Drawing: Upon capturing a double-click event, the code draws a filled rectangle on the image using the RGB values obtained from the double-clicked position. The rectangle is drawn with a starting point at (20, 20) and an ending point at (750, 60).\n",
    "\n",
    "4. Color Name and RGB Values: The code generates a text string that includes the color name obtained from the `getColorName` function, along with the RGB values (`R`, `G`, `B`). This text is displayed on the image using `cv2.putText`.\n",
    "\n",
    "5. Text Color: The color of the displayed text is determined based on the sum of the RGB values. If the sum is greater than or equal to 600, the text color is set to black; otherwise, it is set to white.\n",
    "\n",
    "6. Program Termination: Pressing the 'Esc' key terminates the program and closes all open windows.\n",
    "\n",
    "#### The code provides an interactive way to detect colors by double-clicking on an image and obtaining the corresponding color name and RGB values."
   ]
  },
  {
   "cell_type": "code",
   "execution_count": null,
   "metadata": {},
   "outputs": [],
   "source": []
  }
 ],
 "metadata": {
  "kernelspec": {
   "display_name": "Python 3 (ipykernel)",
   "language": "python",
   "name": "python3"
  },
  "language_info": {
   "codemirror_mode": {
    "name": "ipython",
    "version": 3
   },
   "file_extension": ".py",
   "mimetype": "text/x-python",
   "name": "python",
   "nbconvert_exporter": "python",
   "pygments_lexer": "ipython3",
   "version": "3.9.12"
  }
 },
 "nbformat": 4,
 "nbformat_minor": 4
}
